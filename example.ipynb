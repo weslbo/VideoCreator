{
 "cells": [
  {
   "cell_type": "code",
   "execution_count": null,
   "metadata": {},
   "outputs": [],
   "source": [
    "import sys\n",
    "sys.path.append('./utils')\n",
    "import ai"
   ]
  },
  {
   "cell_type": "code",
   "execution_count": null,
   "metadata": {},
   "outputs": [],
   "source": [
    "# If you make changes in ai.py, reload it like this:\n",
    "import importlib\n",
    "import ai\n",
    "\n",
    "# Reload the module to reflect the changes\n",
    "importlib.reload(ai)"
   ]
  },
  {
   "cell_type": "markdown",
   "metadata": {},
   "source": [
    "## Read the content of a markdown file"
   ]
  },
  {
   "cell_type": "code",
   "execution_count": null,
   "metadata": {},
   "outputs": [],
   "source": [
    "file_path = '1-introduction.md'\n",
    "\n",
    "with open(file_path, 'r') as file:\n",
    "    content = file.read()\n",
    "    \n",
    "content = \"Introduction\\n\\n\" + content"
   ]
  },
  {
   "cell_type": "code",
   "execution_count": null,
   "metadata": {},
   "outputs": [],
   "source": [
    "%%question\n",
    "\n",
    "Consider the following content:\n",
    "===\n",
    "$content\n",
    "===\n",
    "\n",
    "Create a speaker transcript based on the content provided. \n",
    "- You are a professional instructor and you are giving a presentation.\n",
    "- Do not include any bullet points or lists. \n",
    "- Make sure to be concise and clear.\n",
    "- Use natural language and avoid markdown, code fragments, or any other formatting.\n",
    "- File extensions should be in uppercase (like .MP4, .PDF, etc.)\n",
    "- This will be used for a video, so make sure to use a friendly and engaging tone."
   ]
  },
  {
   "cell_type": "code",
   "execution_count": null,
   "metadata": {},
   "outputs": [],
   "source": [
    "%%question\n",
    "\n",
    "Now take this transcript and create an outline for a video. Divide the transcript into much smaller scenes. \n",
    "\n",
    "For each scene, define the following:\n",
    "    - A title for the scene.\n",
    "    - The transcript that will be spoken by an avatar in a video. No changes should be made to the transcript.\n",
    "    - A prompt that can be used against dall-e to generate an image. Make sure the image will be a flat, simple vector illustration, with vibrant colors and white background. The image will be used in PowerPoint and will be animated.\n",
    "    - Describe the animation we should design from the image."
   ]
  }
 ],
 "metadata": {
  "kernelspec": {
   "display_name": ".venv",
   "language": "python",
   "name": "python3"
  },
  "language_info": {
   "codemirror_mode": {
    "name": "ipython",
    "version": 3
   },
   "file_extension": ".py",
   "mimetype": "text/x-python",
   "name": "python",
   "nbconvert_exporter": "python",
   "pygments_lexer": "ipython3",
   "version": "3.12.7"
  }
 },
 "nbformat": 4,
 "nbformat_minor": 2
}
